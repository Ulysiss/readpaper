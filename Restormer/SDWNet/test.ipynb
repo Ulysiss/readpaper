{
 "cells": [
  {
   "cell_type": "code",
   "execution_count": 1,
   "metadata": {},
   "outputs": [
    {
     "name": "stdout",
     "output_type": "stream",
     "text": [
      "tensor([0, 2, 4])\n"
     ]
    }
   ],
   "source": [
    "import torch\n",
    "x=torch.arange(3)\n",
    "y=torch.tensor([2,2,2])\n",
    "print(x*y)"
   ]
  }
 ],
 "metadata": {
  "interpreter": {
   "hash": "8c0d8dfaf6a7fb4d6df79c3eeeb9d072c60b2f8d57beb74a7d49398d3aae5815"
  },
  "kernelspec": {
   "display_name": "Python 3.6.13 ('torch')",
   "language": "python",
   "name": "python3"
  },
  "language_info": {
   "codemirror_mode": {
    "name": "ipython",
    "version": 3
   },
   "file_extension": ".py",
   "mimetype": "text/x-python",
   "name": "python",
   "nbconvert_exporter": "python",
   "pygments_lexer": "ipython3",
   "version": "3.6.13"
  },
  "orig_nbformat": 4
 },
 "nbformat": 4,
 "nbformat_minor": 2
}
